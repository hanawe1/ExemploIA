{
  "nbformat": 4,
  "nbformat_minor": 0,
  "metadata": {
    "colab": {
      "provenance": []
    },
    "kernelspec": {
      "name": "python3",
      "display_name": "Python 3"
    },
    "language_info": {
      "name": "python"
    }
  },
  "cells": [
    {
      "cell_type": "code",
      "execution_count": 1,
      "metadata": {
        "colab": {
          "base_uri": "https://localhost:8080/"
        },
        "id": "dpEzqn2800e2",
        "outputId": "5ef09079-26bb-416c-9325-147bfc2ad648"
      },
      "outputs": [
        {
          "output_type": "stream",
          "name": "stdout",
          "text": [
            "Requirement already satisfied: google-generativeai in /usr/local/lib/python3.10/dist-packages (0.5.2)\n",
            "Requirement already satisfied: google-ai-generativelanguage==0.6.2 in /usr/local/lib/python3.10/dist-packages (from google-generativeai) (0.6.2)\n",
            "Requirement already satisfied: google-api-core in /usr/local/lib/python3.10/dist-packages (from google-generativeai) (2.11.1)\n",
            "Requirement already satisfied: google-api-python-client in /usr/local/lib/python3.10/dist-packages (from google-generativeai) (2.84.0)\n",
            "Requirement already satisfied: google-auth>=2.15.0 in /usr/local/lib/python3.10/dist-packages (from google-generativeai) (2.27.0)\n",
            "Requirement already satisfied: protobuf in /usr/local/lib/python3.10/dist-packages (from google-generativeai) (3.20.3)\n",
            "Requirement already satisfied: pydantic in /usr/local/lib/python3.10/dist-packages (from google-generativeai) (2.7.0)\n",
            "Requirement already satisfied: tqdm in /usr/local/lib/python3.10/dist-packages (from google-generativeai) (4.66.2)\n",
            "Requirement already satisfied: typing-extensions in /usr/local/lib/python3.10/dist-packages (from google-generativeai) (4.11.0)\n",
            "Requirement already satisfied: proto-plus<2.0.0dev,>=1.22.3 in /usr/local/lib/python3.10/dist-packages (from google-ai-generativelanguage==0.6.2->google-generativeai) (1.23.0)\n",
            "Requirement already satisfied: cachetools<6.0,>=2.0.0 in /usr/local/lib/python3.10/dist-packages (from google-auth>=2.15.0->google-generativeai) (5.3.3)\n",
            "Requirement already satisfied: pyasn1-modules>=0.2.1 in /usr/local/lib/python3.10/dist-packages (from google-auth>=2.15.0->google-generativeai) (0.4.0)\n",
            "Requirement already satisfied: rsa<5,>=3.1.4 in /usr/local/lib/python3.10/dist-packages (from google-auth>=2.15.0->google-generativeai) (4.9)\n",
            "Requirement already satisfied: googleapis-common-protos<2.0.dev0,>=1.56.2 in /usr/local/lib/python3.10/dist-packages (from google-api-core->google-generativeai) (1.63.0)\n",
            "Requirement already satisfied: requests<3.0.0.dev0,>=2.18.0 in /usr/local/lib/python3.10/dist-packages (from google-api-core->google-generativeai) (2.31.0)\n",
            "Requirement already satisfied: httplib2<1dev,>=0.15.0 in /usr/local/lib/python3.10/dist-packages (from google-api-python-client->google-generativeai) (0.22.0)\n",
            "Requirement already satisfied: google-auth-httplib2>=0.1.0 in /usr/local/lib/python3.10/dist-packages (from google-api-python-client->google-generativeai) (0.1.1)\n",
            "Requirement already satisfied: uritemplate<5,>=3.0.1 in /usr/local/lib/python3.10/dist-packages (from google-api-python-client->google-generativeai) (4.1.1)\n",
            "Requirement already satisfied: annotated-types>=0.4.0 in /usr/local/lib/python3.10/dist-packages (from pydantic->google-generativeai) (0.6.0)\n",
            "Requirement already satisfied: pydantic-core==2.18.1 in /usr/local/lib/python3.10/dist-packages (from pydantic->google-generativeai) (2.18.1)\n",
            "Requirement already satisfied: grpcio<2.0dev,>=1.33.2 in /usr/local/lib/python3.10/dist-packages (from google-api-core->google-generativeai) (1.62.2)\n",
            "Requirement already satisfied: grpcio-status<2.0.dev0,>=1.33.2 in /usr/local/lib/python3.10/dist-packages (from google-api-core->google-generativeai) (1.48.2)\n",
            "Requirement already satisfied: pyparsing!=3.0.0,!=3.0.1,!=3.0.2,!=3.0.3,<4,>=2.4.2 in /usr/local/lib/python3.10/dist-packages (from httplib2<1dev,>=0.15.0->google-api-python-client->google-generativeai) (3.1.2)\n",
            "Requirement already satisfied: pyasn1<0.7.0,>=0.4.6 in /usr/local/lib/python3.10/dist-packages (from pyasn1-modules>=0.2.1->google-auth>=2.15.0->google-generativeai) (0.6.0)\n",
            "Requirement already satisfied: charset-normalizer<4,>=2 in /usr/local/lib/python3.10/dist-packages (from requests<3.0.0.dev0,>=2.18.0->google-api-core->google-generativeai) (3.3.2)\n",
            "Requirement already satisfied: idna<4,>=2.5 in /usr/local/lib/python3.10/dist-packages (from requests<3.0.0.dev0,>=2.18.0->google-api-core->google-generativeai) (3.7)\n",
            "Requirement already satisfied: urllib3<3,>=1.21.1 in /usr/local/lib/python3.10/dist-packages (from requests<3.0.0.dev0,>=2.18.0->google-api-core->google-generativeai) (2.0.7)\n",
            "Requirement already satisfied: certifi>=2017.4.17 in /usr/local/lib/python3.10/dist-packages (from requests<3.0.0.dev0,>=2.18.0->google-api-core->google-generativeai) (2024.2.2)\n"
          ]
        }
      ],
      "source": [
        "!pip install -U google-generativeai\n",
        "import google.generativeai as genai\n",
        "from google.colab import userdata"
      ]
    },
    {
      "cell_type": "code",
      "source": [
        "GOOGLE_API_KEY=userdata.get('GOOGLE_API_KEY')\n",
        "genai.configure(api_key=GOOGLE_API_KEY)\n",
        "\n"
      ],
      "metadata": {
        "id": "DqynbpmK09JE"
      },
      "execution_count": 2,
      "outputs": []
    },
    {
      "cell_type": "code",
      "source": [
        "for m in genai.list_models():\n",
        "  if 'generateContent' in m.supported_generation_methods:\n",
        "    print(m.name)\n",
        ""
      ],
      "metadata": {
        "colab": {
          "base_uri": "https://localhost:8080/",
          "height": 139
        },
        "id": "kG8p14-T1GYA",
        "outputId": "0057bccf-3ae2-432a-e337-bf848cb2b01e"
      },
      "execution_count": 3,
      "outputs": [
        {
          "output_type": "stream",
          "name": "stdout",
          "text": [
            "models/gemini-1.0-pro\n",
            "models/gemini-1.0-pro-001\n",
            "models/gemini-1.0-pro-latest\n",
            "models/gemini-1.0-pro-vision-latest\n",
            "models/gemini-1.5-pro-latest\n",
            "models/gemini-pro\n",
            "models/gemini-pro-vision\n"
          ]
        }
      ]
    },
    {
      "cell_type": "code",
      "source": [
        "model = genai.GenerativeModel('gemini-1.0-pro')"
      ],
      "metadata": {
        "id": "escdKngy1LOw"
      },
      "execution_count": 4,
      "outputs": []
    },
    {
      "cell_type": "code",
      "source": [
        "response = model.generate_content(\"Como jogar rpg D&D?\")\n",
        "print(\"Resposta\", response.text)"
      ],
      "metadata": {
        "colab": {
          "base_uri": "https://localhost:8080/",
          "height": 1000
        },
        "id": "6cXJ4qm-1Ywj",
        "outputId": "54fdbcdd-32c0-4ac8-cd8c-324fc6d2e7db"
      },
      "execution_count": 5,
      "outputs": [
        {
          "output_type": "stream",
          "name": "stdout",
          "text": [
            "Resposta **Introdução**\n",
            "\n",
            "Dungeons & Dragons (D&D) é um jogo de RPG de mesa colaborativo onde os jogadores criam personagens e vivenciam aventuras em um mundo fictício. Os jogadores rolam dados para determinar os resultados de suas ações, enquanto o Mestre conduz a história e controla o mundo do jogo.\n",
            "\n",
            "**Materiais necessários**\n",
            "\n",
            "* Livro de regras do D&D (Player's Handbook, Dungeon Master's Guide, Monster Manual)\n",
            "* Dados (d4, d6, d8, d10, d12, d20)\n",
            "* Lápis e papel\n",
            "* Miniaturas ou fichas de personagem (opcional)\n",
            "* Mapa de batalha (opcional)\n",
            "\n",
            "**Criando Personagens**\n",
            "\n",
            "* Escolha uma raça (humano, elfo, anão, etc.)\n",
            "* Escolha uma classe (guerreiro, mago, ladino, etc.)\n",
            "* Determine os atributos (Força, Destreza, Inteligência, etc.)\n",
            "* Escolha perícias e habilidades\n",
            "* Crie um histórico e uma personalidade para seu personagem\n",
            "\n",
            "**Jogabilidade**\n",
            "\n",
            "* O Mestre descreve o cenário e as opções disponíveis para os jogadores.\n",
            "* Os jogadores declaram suas ações e rolam dados para determinar o sucesso ou falha.\n",
            "* O Mestre interpreta o resultado das jogadas de dado e descreve as consequências.\n",
            "* Os jogadores interagem uns com os outros e enfrentam desafios.\n",
            "\n",
            "**Combate**\n",
            "\n",
            "* Os encontros de combate acontecem em um mapa de batalha.\n",
            "* Os jogadores e os monstros rolam dados para atacar e se defender.\n",
            "* Os personagens têm pontos de vida (PV) que representam sua saúde.\n",
            "* Quando um personagem fica sem PV, ele desmaia ou morre.\n",
            "\n",
            "**Explorando**\n",
            "\n",
            "* Os jogadores exploram dungeons, vilas e florestas.\n",
            "* Eles encontram NPCs (personagens não-jogadores) e interagem com eles.\n",
            "* Eles resolvem quebra-cabeças e superam obstáculos.\n",
            "\n",
            "**Rolar Dados**\n",
            "\n",
            "* Os dados são usados para determinar o sucesso ou falha das ações.\n",
            "* Os resultados dos dados variam de 1 a 20.\n",
            "* Um resultado alto geralmente indica sucesso, enquanto um resultado baixo indica falha.\n",
            "\n",
            "**Habilidades**\n",
            "\n",
            "* As habilidades representam as proficiências dos personagens em tarefas específicas.\n",
            "* Elas são usadas para fazer jogadas de dado para resolver problemas.\n",
            "* Exemplos de habilidades incluem Furtividade, Persuasão e Conhecimento Arcano.\n",
            "\n",
            "**Dicas para jogar**\n",
            "\n",
            "* Seja criativo e inventivo.\n",
            "* Interprete seu personagem de forma convincente.\n",
            "* Trabalhe em equipe com os outros jogadores.\n",
            "* Divirta-se! D&D é um jogo social, então não se preocupe em cometer erros.\n"
          ]
        }
      ]
    }
  ]
}